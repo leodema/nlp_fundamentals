{
 "cells": [
  {
   "cell_type": "markdown",
   "metadata": {},
   "source": [
    "https://aiplus.odsc.com/courses/nlp-fundamentals\n",
    "\n",
    "Lesson 1 Text Representation (60m)\n",
    "Theory:\n",
    "\n",
    "Familiarize yourself with NLP fundamentals and text preprocessing, to prepare the data for our models. We will go through the main steps like removing stopwords, stesmming, One-Hot Encoding, and more.\n",
    "\n",
    "\n",
    "\n",
    "Exercise: Apply text preprocessing methods on a simple dataset.\n",
    "\n",
    "\n",
    "\n",
    "Outcome: You will be able to apply to the appropriate methodology to preprocess the text.\n"
   ]
  },
  {
   "cell_type": "code",
   "execution_count": null,
   "metadata": {
    "collapsed": true
   },
   "outputs": [],
   "source": [
    "stopwords, stesmming, One-Hot Encoding, and more."
   ]
  }
 ],
 "metadata": {
  "kernelspec": {
   "display_name": "Python 3",
   "language": "python",
   "name": "python3"
  }
 },
 "nbformat": 4,
 "nbformat_minor": 2
}
